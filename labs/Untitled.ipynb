{
 "cells": [
  {
   "cell_type": "code",
   "execution_count": 1,
   "id": "11b8593d-dea7-44e0-beee-c0c6ffea7d1a",
   "metadata": {},
   "outputs": [],
   "source": [
    "from pathlib import Path"
   ]
  },
  {
   "cell_type": "code",
   "execution_count": 6,
   "id": "2b9388f3-c7e0-401d-8d0b-9ef43b78bd73",
   "metadata": {},
   "outputs": [],
   "source": [
    "work_dir = Path(__name__).resolve().parent.parent / \"src\""
   ]
  },
  {
   "cell_type": "code",
   "execution_count": 7,
   "id": "c0625c16-9e78-4525-aa84-2194480aaf0c",
   "metadata": {},
   "outputs": [
    {
     "data": {
      "text/plain": [
       "WindowsPath('C:/dev/python/interview_eval_project/highmark_agentic_ai/src')"
      ]
     },
     "execution_count": 7,
     "metadata": {},
     "output_type": "execute_result"
    }
   ],
   "source": [
    "work_dir"
   ]
  },
  {
   "cell_type": "code",
   "execution_count": 8,
   "id": "481c534a-5120-457c-8f5e-3dbb2a5f1c3d",
   "metadata": {},
   "outputs": [],
   "source": [
    "backend = work_dir / \"backend\""
   ]
  },
  {
   "cell_type": "code",
   "execution_count": 13,
   "id": "69c64859-7ad8-4e04-b974-ad54c8647bbf",
   "metadata": {},
   "outputs": [],
   "source": [
    "if backend.exists():\n",
    "    for folder in (\"core\", \"db\", \"server\", \"settings\", \"site\"):\n",
    "        directory = backend / folder\n",
    "        if not directory.exists():\n",
    "            directory.mkdir(exist_ok=True)\n",
    "        for file in (\"__init__\", \"core\", \"main\", \"utils\", \"consts\"):\n",
    "            file_path = directory / file\n",
    "            # file_path.touch(exist_ok=True)\n",
    "            file_path.unlink(missing_ok=True)"
   ]
  },
  {
   "cell_type": "code",
   "execution_count": null,
   "id": "50e9ff3d-f23a-402d-8bad-5f7f821d6b84",
   "metadata": {},
   "outputs": [],
   "source": []
  }
 ],
 "metadata": {
  "kernelspec": {
   "display_name": "Pydantic Agent AI",
   "language": "python",
   "name": "agentic_ai"
  },
  "language_info": {
   "codemirror_mode": {
    "name": "ipython",
    "version": 3
   },
   "file_extension": ".py",
   "mimetype": "text/x-python",
   "name": "python",
   "nbconvert_exporter": "python",
   "pygments_lexer": "ipython3",
   "version": "3.12.8"
  }
 },
 "nbformat": 4,
 "nbformat_minor": 5
}
